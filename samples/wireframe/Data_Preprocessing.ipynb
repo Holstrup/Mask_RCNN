{
 "cells": [
  {
   "cell_type": "code",
   "execution_count": 3,
   "metadata": {},
   "outputs": [],
   "source": [
    "import numpy as np\n",
    "from PIL import Image\n",
    "import os\n",
    "\n",
    "BACKGROUND_DIR = os.getcwd() + \"/Backgrounds/\"\n",
    "DIR = os.getcwd() + \"/Icons/\""
   ]
  },
  {
   "cell_type": "markdown",
   "metadata": {
    "heading_collapsed": true
   },
   "source": [
    "### Icon\n",
    "\n",
    "Run this document when you want to add new icons and process them. A few things to keep in mind: \n",
    "1. Make sure the picture you have taken, has the icon somewhat centered. It makes things easier. \n",
    "2. Adjust the processed image, by ysing the 5 parameters left, right, up, down and margin. \n",
    "3. Be careful not to overwrite old images, by forgetting to change the filename. "
   ]
  },
  {
   "cell_type": "code",
   "execution_count": 65,
   "metadata": {
    "hidden": true
   },
   "outputs": [],
   "source": [
    "def white_to_transparency(img):\n",
    "    x = np.asarray(img.convert('RGBA')).copy() \n",
    "    x[:, :, 3] = (255 * (x[:, :, :3] != 255).any(axis=2)).astype(np.uint8)\n",
    "    return Image.fromarray(x)\n",
    "\n",
    "def extract_icon(image_array, LOCATION, MARGIN):\n",
    "    HEIGHT, WIDTH = np.shape(image_array)\n",
    "    up, down = LOCATION[0]\n",
    "    left, right = LOCATION[1]\n",
    "    \n",
    "    offset_x, offset_y = LOCATION\n",
    "    INFLECTION_POINT = int(np.sum(image_array[0,:]) / HEIGHT) - 10\n",
    "    \n",
    "    newimgarr = image_array[int(HEIGHT/2) - MARGIN - up:int(HEIGHT/2) + MARGIN + down,\n",
    "                            int(WIDTH/2) - MARGIN + left:int(WIDTH/2) + MARGIN + right]\n",
    "    newimgarr[newimgarr > INFLECTION_POINT] = 255\n",
    "    newimgarr[newimgarr < INFLECTION_POINT] = 0\n",
    "    image = Image.fromarray(newimgarr)\n",
    "    image = white_to_transparency(image).resize((100, 100))\n",
    "    return image"
   ]
  },
  {
   "cell_type": "code",
   "execution_count": 71,
   "metadata": {
    "hidden": true
   },
   "outputs": [],
   "source": [
    "FILENAME = \"\"\n",
    "img = Image.open(DIR + FILENAME).convert(\"L\")\n",
    "imgarr = np.array(img)\n",
    "\n",
    "UP = 100\n",
    "DOWN = 100\n",
    "LEFT = 0\n",
    "RIGHT = 0\n",
    "MARGIN = 300\n",
    "\n",
    "icon_image = extract_icon(imgarr, [(UP, DOWN), (LEFT, RIGHT)], MARGIN)\n",
    "icon_image.show()"
   ]
  },
  {
   "cell_type": "markdown",
   "metadata": {
    "heading_collapsed": true
   },
   "source": [
    "### Save Icon\n",
    "Only run this when you need to save the icon image"
   ]
  },
  {
   "cell_type": "code",
   "execution_count": 72,
   "metadata": {
    "hidden": true
   },
   "outputs": [],
   "source": [
    "icon_image.save(DIR + \"/\" + FILENAME)"
   ]
  },
  {
   "cell_type": "markdown",
   "metadata": {
    "heading_collapsed": true
   },
   "source": [
    "### Resize Backgrounds\n",
    "\n",
    "Resizes the backgrounds to (900, 1200) and makes sure the image is in landscape orientation. Only input is the filename. "
   ]
  },
  {
   "cell_type": "code",
   "execution_count": 4,
   "metadata": {
    "hidden": true
   },
   "outputs": [],
   "source": [
    "FILENAME = \"background4.png\"\n",
    "TARGET_WIDTH, TARGET_HEIGHT = (900, 1200)"
   ]
  },
  {
   "cell_type": "code",
   "execution_count": 5,
   "metadata": {
    "hidden": true
   },
   "outputs": [],
   "source": [
    "image = Image.open(BACKGROUND_DIR + FILENAME).convert(\"L\")\n",
    "imgarr = np.array(image)\n",
    "HEIGHT, WIDTH = np.shape(imgarr)\n",
    "if WIDTH > HEIGHT:\n",
    "    imgarr = imgarr.T\n",
    "Image.fromarray(imgarr)\n",
    "image = image.resize((TARGET_WIDTH, TARGET_HEIGHT), Image.ANTIALIAS)\n",
    "image.show()"
   ]
  },
  {
   "cell_type": "markdown",
   "metadata": {
    "heading_collapsed": true
   },
   "source": [
    "### Save Background"
   ]
  },
  {
   "cell_type": "code",
   "execution_count": 5,
   "metadata": {
    "hidden": true
   },
   "outputs": [],
   "source": [
    "image.save(BACKGROUND_DIR + \"/\" + FILENAME)"
   ]
  }
 ],
 "metadata": {
  "kernelspec": {
   "display_name": "Python 3",
   "language": "python",
   "name": "python3"
  },
  "language_info": {
   "codemirror_mode": {
    "name": "ipython",
    "version": 3
   },
   "file_extension": ".py",
   "mimetype": "text/x-python",
   "name": "python",
   "nbconvert_exporter": "python",
   "pygments_lexer": "ipython3",
   "version": "3.7.2"
  },
  "toc": {
   "base_numbering": 1,
   "nav_menu": {},
   "number_sections": true,
   "sideBar": true,
   "skip_h1_title": false,
   "title_cell": "Table of Contents",
   "title_sidebar": "Contents",
   "toc_cell": false,
   "toc_position": {},
   "toc_section_display": true,
   "toc_window_display": false
  }
 },
 "nbformat": 4,
 "nbformat_minor": 2
}
